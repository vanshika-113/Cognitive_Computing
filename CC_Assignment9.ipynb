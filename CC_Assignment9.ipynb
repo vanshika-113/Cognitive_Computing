{
  "nbformat": 4,
  "nbformat_minor": 0,
  "metadata": {
    "colab": {
      "provenance": []
    },
    "kernelspec": {
      "name": "python3",
      "display_name": "Python 3"
    },
    "language_info": {
      "name": "python"
    }
  },
  "cells": [
    {
      "cell_type": "code",
      "execution_count": null,
      "metadata": {
        "colab": {
          "base_uri": "https://localhost:8080/"
        },
        "id": "Gllxi-zuB8FS",
        "outputId": "c7763403-33de-4429-f68d-e55b1e191c74"
      },
      "outputs": [
        {
          "output_type": "stream",
          "name": "stderr",
          "text": [
            "[nltk_data] Downloading package punkt to /root/nltk_data...\n",
            "[nltk_data]   Unzipping tokenizers/punkt.zip.\n",
            "[nltk_data] Downloading package stopwords to /root/nltk_data...\n",
            "[nltk_data]   Unzipping corpora/stopwords.zip.\n",
            "[nltk_data] Downloading package wordnet to /root/nltk_data...\n",
            "[nltk_data] Downloading package punkt_tab to /root/nltk_data...\n",
            "[nltk_data]   Unzipping tokenizers/punkt_tab.zip.\n"
          ]
        },
        {
          "output_type": "execute_result",
          "data": {
            "text/plain": [
              "True"
            ]
          },
          "metadata": {},
          "execution_count": 1
        }
      ],
      "source": [
        "import nltk\n",
        "import re\n",
        "import string\n",
        "from nltk.tokenize import word_tokenize, sent_tokenize\n",
        "from nltk.corpus import stopwords\n",
        "from nltk.stem import PorterStemmer, LancasterStemmer, WordNetLemmatizer\n",
        "from nltk import FreqDist\n",
        "\n",
        "nltk.download('punkt')\n",
        "nltk.download('stopwords')\n",
        "nltk.download('wordnet')\n",
        "nltk.download('punkt_tab')"
      ]
    },
    {
      "cell_type": "code",
      "source": [
        "text='Food is honestly one of my favorite things to talk about. There is just so much variety, and it never gets boring.I love trying new snacks.It is fun, creative, and super comforting when you are stressed. Honestly, good food can totally make my day.'\n",
        "text_lower=text.lower()\n",
        "text_clean=text_lower.translate(str.maketrans('', '', string.punctuation))\n",
        "print(\"Cleaned text: \", text_clean)\n",
        "\n",
        "word_tokens=word_tokenize(text_clean)\n",
        "sent_tokens=sent_tokenize(text)\n",
        "\n",
        "print(\"Text after word tokenization: \", word_tokens)\n",
        "print(\"Text after sentence tokenization: \", sent_tokens)\n",
        "\n",
        "sent_split=text.split()\n",
        "print(\"Text after tokenization done using split()\", sent_split)\n",
        "\n",
        "sent_split=text.split()\n",
        "print(\"Text after tokenization done using split()\", sent_split)\n",
        "\n",
        "stop_words = set(stopwords.words('english'))\n",
        "filter= [i for i in word_tokens if i.lower() not in stop_words]\n",
        "print(\"Filtered Words:\", filter)\n",
        "\n",
        "fd = FreqDist(filter)\n",
        "fd.plot(10, title=\"Top Words\")"
      ],
      "metadata": {
        "colab": {
          "base_uri": "https://localhost:8080/",
          "height": 658
        },
        "id": "CaRpfbVhDieq",
        "outputId": "fa65efd8-940f-4632-be8d-6015223df8b1"
      },
      "execution_count": null,
      "outputs": [
        {
          "output_type": "stream",
          "name": "stdout",
          "text": [
            "Cleaned text:  food is honestly one of my favorite things to talk about there is just so much variety and it never gets boringi love trying new snacksit is fun creative and super comforting when you are stressed honestly good food can totally make my day\n",
            "Text after word tokenization:  ['food', 'is', 'honestly', 'one', 'of', 'my', 'favorite', 'things', 'to', 'talk', 'about', 'there', 'is', 'just', 'so', 'much', 'variety', 'and', 'it', 'never', 'gets', 'boringi', 'love', 'trying', 'new', 'snacksit', 'is', 'fun', 'creative', 'and', 'super', 'comforting', 'when', 'you', 'are', 'stressed', 'honestly', 'good', 'food', 'can', 'totally', 'make', 'my', 'day']\n",
            "Text after sentence tokenization:  ['Food is honestly one of my favorite things to talk about.', 'There is just so much variety, and it never gets boring.I love trying new snacks.It is fun, creative, and super comforting when you are stressed.', 'Honestly, good food can totally make my day.']\n",
            "Text after tokenization done using split() ['Food', 'is', 'honestly', 'one', 'of', 'my', 'favorite', 'things', 'to', 'talk', 'about.', 'There', 'is', 'just', 'so', 'much', 'variety,', 'and', 'it', 'never', 'gets', 'boring.I', 'love', 'trying', 'new', 'snacks.It', 'is', 'fun,', 'creative,', 'and', 'super', 'comforting', 'when', 'you', 'are', 'stressed.', 'Honestly,', 'good', 'food', 'can', 'totally', 'make', 'my', 'day.']\n",
            "Text after tokenization done using split() ['Food', 'is', 'honestly', 'one', 'of', 'my', 'favorite', 'things', 'to', 'talk', 'about.', 'There', 'is', 'just', 'so', 'much', 'variety,', 'and', 'it', 'never', 'gets', 'boring.I', 'love', 'trying', 'new', 'snacks.It', 'is', 'fun,', 'creative,', 'and', 'super', 'comforting', 'when', 'you', 'are', 'stressed.', 'Honestly,', 'good', 'food', 'can', 'totally', 'make', 'my', 'day.']\n",
            "Filtered Words: ['food', 'honestly', 'one', 'favorite', 'things', 'talk', 'much', 'variety', 'never', 'gets', 'boringi', 'love', 'trying', 'new', 'snacksit', 'fun', 'creative', 'super', 'comforting', 'stressed', 'honestly', 'good', 'food', 'totally', 'make', 'day']\n"
          ]
        },
        {
          "output_type": "execute_result",
          "data": {
            "text/plain": [
              "<Axes: title={'center': 'Top Words'}, xlabel='Samples', ylabel='Counts'>"
            ]
          },
          "metadata": {},
          "execution_count": 5
        },
        {
          "output_type": "display_data",
          "data": {
            "text/plain": [
              "<Figure size 640x480 with 1 Axes>"
            ],
            "image/png": "[encoded data removed]"
          },
          "metadata": {}
        }
      ]
    },
    {
      "cell_type": "code",
      "source": [
        "only_alpha = re.findall(r'\\b[a-zA-Z]+\\b', text)\n",
        "print(only_alpha)\n",
        "ps=PorterStemmer()\n",
        "stemmed=[ps.stem(i) for i in filter]\n",
        "print(\"Stemmed words: \", stemmed)\n",
        "\n",
        "l=WordNetLemmatizer()\n",
        "lemmatized=[l.lemmatize(i.lower()) for i in filter]\n",
        "print(\"Lemmatized words: \", lemmatized)"
      ],
      "metadata": {
        "colab": {
          "base_uri": "https://localhost:8080/"
        },
        "id": "PIUEfz72ECvQ",
        "outputId": "da628aca-ed4a-4db6-b12f-b1ab893ceef0"
      },
      "execution_count": null,
      "outputs": [
        {
          "output_type": "stream",
          "name": "stdout",
          "text": [
            "['Food', 'is', 'honestly', 'one', 'of', 'my', 'favorite', 'things', 'to', 'talk', 'about', 'There', 'is', 'just', 'so', 'much', 'variety', 'and', 'it', 'never', 'gets', 'boring', 'I', 'love', 'trying', 'new', 'snacks', 'It', 'is', 'fun', 'creative', 'and', 'super', 'comforting', 'when', 'you', 'are', 'stressed', 'Honestly', 'good', 'food', 'can', 'totally', 'make', 'my', 'day']\n",
            "Stemmed words:  ['food', 'honestli', 'one', 'favorit', 'thing', 'talk', 'much', 'varieti', 'never', 'get', 'boringi', 'love', 'tri', 'new', 'snacksit', 'fun', 'creativ', 'super', 'comfort', 'stress', 'honestli', 'good', 'food', 'total', 'make', 'day']\n",
            "Lemmatized words:  ['food', 'honestly', 'one', 'favorite', 'thing', 'talk', 'much', 'variety', 'never', 'get', 'boringi', 'love', 'trying', 'new', 'snacksit', 'fun', 'creative', 'super', 'comforting', 'stressed', 'honestly', 'good', 'food', 'totally', 'make', 'day']\n"
          ]
        }
      ]
    },
    {
      "cell_type": "code",
      "source": [
        "long_words = re.findall(r'\\b\\w{6,}\\b', text)\n",
        "print(\"Words with more than 5 letters:\", long_words)\n",
        "\n",
        "numbers = re.findall(r'\\d+', text)\n",
        "print(\"Numbers in the text:\", numbers)\n",
        "\n",
        "capitalized_words = re.findall(r'\\b[A-Z][a-z]*\\b', text)\n",
        "print(\"Capitalized words:\", capitalized_words)"
      ],
      "metadata": {
        "colab": {
          "base_uri": "https://localhost:8080/"
        },
        "id": "YPJJziEHEJzz",
        "outputId": "749f847e-5e40-4f5c-dc0e-d69488d47ff3"
      },
      "execution_count": null,
      "outputs": [
        {
          "output_type": "stream",
          "name": "stdout",
          "text": [
            "Words with more than 5 letters: ['honestly', 'favorite', 'things', 'variety', 'boring', 'trying', 'snacks', 'creative', 'comforting', 'stressed', 'Honestly', 'totally']\n",
            "Numbers in the text: []\n",
            "Capitalized words: ['Food', 'There', 'I', 'It', 'Honestly']\n"
          ]
        }
      ]
    },
    {
      "cell_type": "code",
      "source": [
        "words_only = re.findall(r'[a-zA-Z]+', text)\n",
        "print(\"Words containing only alphabets:\", words_only)\n",
        "\n",
        "vowel_words = [i for i in words_only if i[0].lower() in 'aeiou']\n",
        "print(\"Words starting with a vowel:\", vowel_words)"
      ],
      "metadata": {
        "colab": {
          "base_uri": "https://localhost:8080/"
        },
        "id": "I_asXR64EPGS",
        "outputId": "cb3299d9-fe9e-4f6c-871e-40ceed920f45"
      },
      "execution_count": null,
      "outputs": [
        {
          "output_type": "stream",
          "name": "stdout",
          "text": [
            "Words containing only alphabets: ['Food', 'is', 'honestly', 'one', 'of', 'my', 'favorite', 'things', 'to', 'talk', 'about', 'There', 'is', 'just', 'so', 'much', 'variety', 'and', 'it', 'never', 'gets', 'boring', 'I', 'love', 'trying', 'new', 'snacks', 'It', 'is', 'fun', 'creative', 'and', 'super', 'comforting', 'when', 'you', 'are', 'stressed', 'Honestly', 'good', 'food', 'can', 'totally', 'make', 'my', 'day']\n",
            "Words starting with a vowel: ['is', 'one', 'of', 'about', 'is', 'and', 'it', 'I', 'It', 'is', 'and', 'are']\n"
          ]
        }
      ]
    },
    {
      "cell_type": "code",
      "source": [
        "text = re.sub(r\"[^\\w\\s'-]\", \"\", text)\n",
        "\n",
        "text = re.sub(r'\\b([a-zA-Z]+(?:-[a-zA-Z]+)+)\\b', r'\\1', text)\n",
        "\n",
        "text = re.sub(r'(\\d+\\.\\d+|\\d+)', r' \\1 ',text)\n",
        "\n",
        "tokens = text.split()\n",
        "print(\"Tokens:\", tokens)"
      ],
      "metadata": {
        "colab": {
          "base_uri": "https://localhost:8080/"
        },
        "id": "iLtzKq4sEUpH",
        "outputId": "280721f5-8035-4849-b31a-ede821276838"
      },
      "execution_count": null,
      "outputs": [
        {
          "output_type": "stream",
          "name": "stdout",
          "text": [
            "Tokens: ['Food', 'is', 'honestly', 'one', 'of', 'my', 'favorite', 'things', 'to', 'talk', 'about', 'There', 'is', 'just', 'so', 'much', 'variety', 'and', 'it', 'never', 'gets', 'boringI', 'love', 'trying', 'new', 'snacksIt', 'is', 'fun', 'creative', 'and', 'super', 'comforting', 'when', 'you', 'are', 'stressed', 'Honestly', 'good', 'food', 'can', 'totally', 'make', 'my', 'day']\n"
          ]
        }
      ]
    },
    {
      "cell_type": "code",
      "source": [
        "text1= \"Contact me at abc@example.com or call +91 9536279932\"\n",
        "\n",
        "text1 = re.sub(r'\\b[A-Za-z0-9._%+-]+@[A-Za-z0-9.-]+\\.[A-Za-z]{2,}\\b', '<EMAIL>', text1)\n",
        "\n",
        "text1 = re.sub(r'http[s]?://(?:[a-zA-Z]|[0-9]|[$-_@.&+]|[!*\\\\(\\\\),]|(?:%[0-9a-fA-F][0-9a-fA-F]))+', '<URL>', text1)\n",
        "\n",
        "text1 = re.sub(r'\\b(\\+?\\d{1,2}\\s?)?(\\(?\\d{3}\\)?[-.\\s]?)?(\\d{3})[-.\\s]?(\\d{4})\\b', '<PHONE>', text1)\n",
        "\n",
        "print(\"\\nModified Text:\", text1)"
      ],
      "metadata": {
        "colab": {
          "base_uri": "https://localhost:8080/"
        },
        "id": "x4W6DUz1Edhm",
        "outputId": "ca1980ea-8044-48bd-83b1-cfd906af74c9"
      },
      "execution_count": null,
      "outputs": [
        {
          "output_type": "stream",
          "name": "stdout",
          "text": [
            "\n",
            "Modified Text: Contact me at <EMAIL> or call +<PHONE>\n"
          ]
        }
      ]
    }
  ]
}
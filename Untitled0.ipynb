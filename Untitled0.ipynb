{
  "nbformat": 4,
  "nbformat_minor": 0,
  "metadata": {
    "colab": {
      "provenance": []
    },
    "kernelspec": {
      "name": "python3",
      "display_name": "Python 3"
    },
    "language_info": {
      "name": "python"
    }
  },
  "cells": [
    {
      "cell_type": "code",
      "execution_count": 1,
      "metadata": {
        "colab": {
          "base_uri": "https://localhost:8080/"
        },
        "id": "arrar8LKW19S",
        "outputId": "a5297a77-107e-44bc-84ad-627c897b70d4"
      },
      "outputs": [
        {
          "output_type": "stream",
          "name": "stdout",
          "text": [
            "Anything You Find Cool.\n"
          ]
        }
      ],
      "source": [
        "print(\"Anything You Find Cool.\")"
      ]
    },
    {
      "cell_type": "code",
      "source": [
        "a=4\n",
        "b=5\n",
        "c=a+b\n",
        "print(a, \"+\", b, \"gives: \",c)"
      ],
      "metadata": {
        "colab": {
          "base_uri": "https://localhost:8080/"
        },
        "id": "Lbr1ujVxXtop",
        "outputId": "f1430a49-9fee-4f2c-bff2-bf6592423796"
      },
      "execution_count": 5,
      "outputs": [
        {
          "output_type": "stream",
          "name": "stdout",
          "text": [
            "4 + 5 gives:  9\n"
          ]
        }
      ]
    },
    {
      "cell_type": "code",
      "source": [
        "a=\"Good\"\n",
        "b=\"Morning\"\n",
        "c=a+\" \"+b\n",
        "print(c)"
      ],
      "metadata": {
        "colab": {
          "base_uri": "https://localhost:8080/"
        },
        "id": "QaHqcsp4Yn-j",
        "outputId": "0a2f9c15-0670-471e-8867-103b73337003"
      },
      "execution_count": 8,
      "outputs": [
        {
          "output_type": "stream",
          "name": "stdout",
          "text": [
            "Good Morning\n"
          ]
        }
      ]
    },
    {
      "cell_type": "code",
      "source": [
        "a=\"Hello\"\n",
        "b=6\n",
        "c=a+\" \"+str(b)\n",
        "print(c)"
      ],
      "metadata": {
        "colab": {
          "base_uri": "https://localhost:8080/"
        },
        "id": "zSFYtitcZW1X",
        "outputId": "46f37434-272a-4798-fe9f-74b69a121889"
      },
      "execution_count": 10,
      "outputs": [
        {
          "output_type": "stream",
          "name": "stdout",
          "text": [
            "Hello 6\n"
          ]
        }
      ]
    },
    {
      "cell_type": "code",
      "source": [
        "a=-98\n",
        "if(a>0):\n",
        "  print(\"It is a positive number.\")\n",
        "elif(a==0):\n",
        "  print(\"It is zero.\")\n",
        "else:\n",
        "  print(\"It is a negative number.\")\n"
      ],
      "metadata": {
        "colab": {
          "base_uri": "https://localhost:8080/"
        },
        "id": "5KKwk0QqZvXQ",
        "outputId": "61f532c7-9133-49af-de03-eb89df46222c"
      },
      "execution_count": 17,
      "outputs": [
        {
          "output_type": "stream",
          "name": "stdout",
          "text": [
            "It is a negative number.\n"
          ]
        }
      ]
    },
    {
      "cell_type": "code",
      "source": [
        "a=50\n",
        "if(a%2==0):\n",
        "  print(\"It is an even number.\")\n",
        "else:\n",
        "  print(\"It is an odd number.\")"
      ],
      "metadata": {
        "colab": {
          "base_uri": "https://localhost:8080/"
        },
        "id": "PyljdaTMa0Zu",
        "outputId": "8b018ef1-c416-43cc-99c5-e7ed2cbdf050"
      },
      "execution_count": 19,
      "outputs": [
        {
          "output_type": "stream",
          "name": "stdout",
          "text": [
            "It is an even number.\n"
          ]
        }
      ]
    },
    {
      "cell_type": "code",
      "source": [
        "for i in range(1,11):\n",
        "  print(i)"
      ],
      "metadata": {
        "colab": {
          "base_uri": "https://localhost:8080/"
        },
        "id": "InS5z3XRbVJ9",
        "outputId": "6d965557-60e9-4906-94dc-24c044af24c2"
      },
      "execution_count": 21,
      "outputs": [
        {
          "output_type": "stream",
          "name": "stdout",
          "text": [
            "1\n",
            "2\n",
            "3\n",
            "4\n",
            "5\n",
            "6\n",
            "7\n",
            "8\n",
            "9\n",
            "10\n"
          ]
        }
      ]
    },
    {
      "cell_type": "code",
      "source": [
        "i=1\n",
        "while i<11:\n",
        "  print(i)\n",
        "  i=i+1\n",
        "\n"
      ],
      "metadata": {
        "colab": {
          "base_uri": "https://localhost:8080/"
        },
        "id": "-3geNl8gcSpJ",
        "outputId": "7b5103c2-f324-459b-beea-cdcf40a9cb77"
      },
      "execution_count": 25,
      "outputs": [
        {
          "output_type": "stream",
          "name": "stdout",
          "text": [
            "1\n",
            "2\n",
            "3\n",
            "4\n",
            "5\n",
            "6\n",
            "7\n",
            "8\n",
            "9\n",
            "10\n"
          ]
        }
      ]
    },
    {
      "cell_type": "code",
      "source": [
        "a=1\n",
        "sum=0\n",
        "for i in range(1,101):\n",
        " sum=sum+i\n",
        "print(sum)"
      ],
      "metadata": {
        "colab": {
          "base_uri": "https://localhost:8080/"
        },
        "id": "uV4o4LbXdgo0",
        "outputId": "75dc192e-baec-4189-c6b8-92ca7618dbd4"
      },
      "execution_count": 28,
      "outputs": [
        {
          "output_type": "stream",
          "name": "stdout",
          "text": [
            "5050\n"
          ]
        }
      ]
    },
    {
      "cell_type": "code",
      "source": [
        "list=[3,56,24,67,400]\n",
        "smallest=min(list)\n",
        "largest=max(list)\n",
        "print(\"The smallest number is \",smallest)\n",
        "print(\"The largest number is \",largest)"
      ],
      "metadata": {
        "colab": {
          "base_uri": "https://localhost:8080/"
        },
        "id": "463iR6hdgG7Q",
        "outputId": "8a488f2d-aaf1-44fa-dcb8-f5299e0c6897"
      },
      "execution_count": 30,
      "outputs": [
        {
          "output_type": "stream",
          "name": "stdout",
          "text": [
            "The smallest number is  3\n",
            "The largest number is  400\n"
          ]
        }
      ]
    },
    {
      "cell_type": "code",
      "source": [
        "D={1:\"One\", 2:\"Two\", 3:\"Three\"}\n",
        "D[2]"
      ],
      "metadata": {
        "colab": {
          "base_uri": "https://localhost:8080/",
          "height": 36
        },
        "id": "kvxCms3NhrEd",
        "outputId": "265cfa90-3d56-4bd0-fd9e-31728c7bff29"
      },
      "execution_count": 32,
      "outputs": [
        {
          "output_type": "execute_result",
          "data": {
            "text/plain": [
              "'Two'"
            ],
            "application/vnd.google.colaboratory.intrinsic+json": {
              "type": "string"
            }
          },
          "metadata": {},
          "execution_count": 32
        }
      ]
    },
    {
      "cell_type": "code",
      "source": [
        "list=[39,45,400,20,15,0,33,2]\n",
        "list.sort()\n",
        "print(\"Ascending order: \",list)\n",
        "list.reverse()\n",
        "print(\"Descending order: \",list)"
      ],
      "metadata": {
        "colab": {
          "base_uri": "https://localhost:8080/"
        },
        "id": "Qg7nW63fjAl0",
        "outputId": "a3fa02f9-f746-40ef-ee0c-3a683c33ac4f"
      },
      "execution_count": 35,
      "outputs": [
        {
          "output_type": "stream",
          "name": "stdout",
          "text": [
            "Ascending order:  [0, 2, 15, 20, 33, 39, 45, 400]\n",
            "Descending order:  [400, 45, 39, 33, 20, 15, 2, 0]\n"
          ]
        }
      ]
    },
    {
      "cell_type": "code",
      "source": [
        "D1={1:\"One\",2:\"Two\",3:\"Three\"}\n",
        "D2={4:\"Four\",5:\"Five\",6:\"Six\"}\n",
        "D1.update(D2)\n",
        "print(D1)"
      ],
      "metadata": {
        "colab": {
          "base_uri": "https://localhost:8080/"
        },
        "id": "GgR12WrPj1jL",
        "outputId": "73b4c0cb-90f2-47b3-b248-a8ba74a6c8d8"
      },
      "execution_count": 36,
      "outputs": [
        {
          "output_type": "stream",
          "name": "stdout",
          "text": [
            "{1: 'One', 2: 'Two', 3: 'Three', 4: 'Four', 5: 'Five', 6: 'Six'}\n"
          ]
        }
      ]
    },
    {
      "cell_type": "code",
      "source": [
        "a=\"Orange\"\n"
      ],
      "metadata": {
        "id": "FUQYj3o8kr0h"
      },
      "execution_count": null,
      "outputs": []
    },
    {
      "cell_type": "code",
      "source": [
        "a=\"Apple\"\n",
        "reverse=a[::-1]\n",
        "print(reverse)"
      ],
      "metadata": {
        "colab": {
          "base_uri": "https://localhost:8080/"
        },
        "id": "-POZck12ldOj",
        "outputId": "aa270663-666a-4b51-e975-74e9c702a5c0"
      },
      "execution_count": 38,
      "outputs": [
        {
          "output_type": "stream",
          "name": "stdout",
          "text": [
            "elppA\n"
          ]
        }
      ]
    },
    {
      "cell_type": "code",
      "source": [
        "a=\"radar\"\n",
        "reverse=a[::-1]\n",
        "if(reverse==a):\n",
        "  print(\"It is a palindrome.\")\n",
        "else:\n",
        "  print(\"It is not a palindrome.\")\n"
      ],
      "metadata": {
        "colab": {
          "base_uri": "https://localhost:8080/"
        },
        "id": "MDwadqqfm1en",
        "outputId": "c27b5834-d1c3-4ca0-bf86-30a2656219c2"
      },
      "execution_count": 41,
      "outputs": [
        {
          "output_type": "stream",
          "name": "stdout",
          "text": [
            "It is a palindrome.\n"
          ]
        }
      ]
    },
    {
      "cell_type": "code",
      "source": [
        "f=open(\"newfile.txt\",\"w\")\n",
        "f.write(\"It is a good day.\")\n",
        "f.close()\n",
        "f=open(\"newfile.txt\",\"r\")\n",
        "print(f.read())"
      ],
      "metadata": {
        "colab": {
          "base_uri": "https://localhost:8080/"
        },
        "id": "2JugQokunu1e",
        "outputId": "f0f576ad-3f1e-4cbe-8898-b691e319099e"
      },
      "execution_count": 47,
      "outputs": [
        {
          "output_type": "stream",
          "name": "stdout",
          "text": [
            "It is a good day.\n"
          ]
        }
      ]
    },
    {
      "cell_type": "code",
      "source": [
        "f=open(\"newfile.txt\",\"a\")\n",
        "f.write(\"Today is thursday.\")\n",
        "f.close()\n",
        "f=open(\"newfile.txt\",\"r\")\n",
        "print(f.read())"
      ],
      "metadata": {
        "colab": {
          "base_uri": "https://localhost:8080/"
        },
        "id": "cfsnnomsuXMr",
        "outputId": "94fc5aaf-719a-44bf-b266-47490beb0c7f"
      },
      "execution_count": 48,
      "outputs": [
        {
          "output_type": "stream",
          "name": "stdout",
          "text": [
            "It is a good day.Today is thursday.\n"
          ]
        }
      ]
    },
    {
      "cell_type": "code",
      "source": [
        "f=open(\"newfile.txt\",\"r\")\n",
        "x=len(f.readlines())\n",
        "print(\"The number of lines: \",x)"
      ],
      "metadata": {
        "colab": {
          "base_uri": "https://localhost:8080/"
        },
        "id": "1xL_pZVSxEoq",
        "outputId": "8d944583-e74c-4acc-8ca7-9a4329f1480b"
      },
      "execution_count": 51,
      "outputs": [
        {
          "output_type": "stream",
          "name": "stdout",
          "text": [
            "The number of lines:  1\n"
          ]
        }
      ]
    },
    {
      "cell_type": "code",
      "source": [
        "a=15\n",
        "b=0\n",
        "try:\n",
        "  c=a/b\n",
        "  print(c)\n",
        "except ZeroDivisionError:\n",
        "  print(\"Can't divide by 0\")\n"
      ],
      "metadata": {
        "colab": {
          "base_uri": "https://localhost:8080/"
        },
        "id": "QoUnV4peybBT",
        "outputId": "07a1497f-9077-4d4b-a24a-9ff2b5695325"
      },
      "execution_count": 58,
      "outputs": [
        {
          "output_type": "stream",
          "name": "stdout",
          "text": [
            "Can't divide by 0\n"
          ]
        }
      ]
    },
    {
      "cell_type": "code",
      "source": [
        "try:\n",
        " a=int(input(\"Enter a number: \"))\n",
        "except ValueError:\n",
        "  print(\"Invalid input.Please enter a number.\")\n",
        "\n",
        "\n"
      ],
      "metadata": {
        "colab": {
          "base_uri": "https://localhost:8080/"
        },
        "id": "sJNnfFkF0ddI",
        "outputId": "b262af16-daa8-456c-9e9f-f45bdbb0ce5a"
      },
      "execution_count": 62,
      "outputs": [
        {
          "output_type": "stream",
          "name": "stdout",
          "text": [
            "Enter a number: ert\n",
            "Invalid input. Please enter a number.\n"
          ]
        }
      ]
    },
    {
      "cell_type": "code",
      "source": [
        "try:\n",
        "  a=5/1\n",
        "  print(a)\n",
        "except ZeroDivisionError:\n",
        "    print(\"Can't divide by 0\")\n",
        "finally:\n",
        "      print(\"This is always executed regardless of exception.\")"
      ],
      "metadata": {
        "colab": {
          "base_uri": "https://localhost:8080/"
        },
        "id": "C_Zsf_Kj3IMr",
        "outputId": "33f3b042-bd40-4786-a350-70f3cf48d1bf"
      },
      "execution_count": 64,
      "outputs": [
        {
          "output_type": "stream",
          "name": "stdout",
          "text": [
            "5.0\n",
            "This is always executed regardless of exception.\n"
          ]
        }
      ]
    },
    {
      "cell_type": "code",
      "source": [
        "import random\n",
        "a=random.randint(1,100)\n",
        "print(a)"
      ],
      "metadata": {
        "colab": {
          "base_uri": "https://localhost:8080/"
        },
        "id": "jLkiEhik4Eis",
        "outputId": "74395b74-a427-4d31-e00f-685fb5094d89"
      },
      "execution_count": 1,
      "outputs": [
        {
          "output_type": "stream",
          "name": "stdout",
          "text": [
            "19\n"
          ]
        }
      ]
    },
    {
      "cell_type": "code",
      "source": [
        "import random\n",
        "a=random.randint(1,100)\n",
        "print(a)\n",
        "for i in range(2,(a//2)+1):\n",
        "   if(a%i)==0:\n",
        "    print(\"Composite\")\n",
        "   else:\n",
        "    print(\"Prime\")\n",
        "    break"
      ],
      "metadata": {
        "colab": {
          "base_uri": "https://localhost:8080/"
        },
        "id": "i459EXDUNeOS",
        "outputId": "c25a89c1-4464-4224-d254-43d3be18d5c3"
      },
      "execution_count": 10,
      "outputs": [
        {
          "output_type": "stream",
          "name": "stdout",
          "text": [
            "33\n",
            "Prime\n"
          ]
        }
      ]
    },
    {
      "cell_type": "code",
      "source": [
        "import random\n",
        "a=random.randint(1,6)\n",
        "print(a)"
      ],
      "metadata": {
        "colab": {
          "base_uri": "https://localhost:8080/"
        },
        "id": "kpwtrlIPPosU",
        "outputId": "74cdad99-418d-41c4-b1d0-9275fe141240"
      },
      "execution_count": 12,
      "outputs": [
        {
          "output_type": "stream",
          "name": "stdout",
          "text": [
            "1\n"
          ]
        }
      ]
    },
    {
      "cell_type": "code",
      "source": [
        "import random\n",
        "a=[1,2,3,4,5]\n",
        "random.shuffle(a)\n",
        "print(a)"
      ],
      "metadata": {
        "colab": {
          "base_uri": "https://localhost:8080/"
        },
        "id": "MuRGnFHbRGUP",
        "outputId": "f3a06f92-a477-40a1-df01-15e979b4d799"
      },
      "execution_count": 11,
      "outputs": [
        {
          "output_type": "stream",
          "name": "stdout",
          "text": [
            "[3, 4, 1, 2, 5]\n"
          ]
        }
      ]
    },
    {
      "cell_type": "code",
      "source": [
        "import random\n",
        "a=[1,2,3,4,5,6]\n",
        "print(random.choice(a))"
      ],
      "metadata": {
        "colab": {
          "base_uri": "https://localhost:8080/"
        },
        "id": "olKg9SPvRvC-",
        "outputId": "b64cc884-a634-4dd6-fead-9d28cd0e71b5"
      },
      "execution_count": 18,
      "outputs": [
        {
          "output_type": "stream",
          "name": "stdout",
          "text": [
            "5\n"
          ]
        }
      ]
    },
    {
      "cell_type": "code",
      "source": [
        "import random\n",
        "import string\n",
        "def generatepassword(length):\n",
        "    character= string.ascii_letters + string.digits\n",
        "    password = ''.join(random.choice(character) for _ in range(length))\n",
        "    return password\n",
        "passwordlength = int(input(\"Enter the password length: \"))\n",
        "password = generatepassword(passwordlength)\n",
        "print(\"The generated password:\",password)"
      ],
      "metadata": {
        "colab": {
          "base_uri": "https://localhost:8080/"
        },
        "id": "i91ObHBfSt-A",
        "outputId": "ba6afb25-4709-4d00-bafb-2a72a199eb6d"
      },
      "execution_count": 49,
      "outputs": [
        {
          "output_type": "stream",
          "name": "stdout",
          "text": [
            "Enter the password length: 6\n",
            "The generated password: gGgEGx\n"
          ]
        }
      ]
    },
    {
      "cell_type": "code",
      "source": [
        "import random\n",
        "cards=[\"Diamonds\",\"Spades\",\"Hearts\",\"Clubs\"]\n",
        "numbers=[2,3,4,5,6,7,8,9,10,\"Jack\",\"Queen\",\"King\",\"Ace\"]\n",
        "card=random.choices(cards)\n",
        "number=random.choices(numbers)\n",
        "print(f\"The {number} of {card}\")\n"
      ],
      "metadata": {
        "colab": {
          "base_uri": "https://localhost:8080/"
        },
        "id": "G8mftNc3VrRZ",
        "outputId": "adc4cec7-6139-4817-d33e-e0df87fff9f0"
      },
      "execution_count": 38,
      "outputs": [
        {
          "output_type": "stream",
          "name": "stdout",
          "text": [
            "The ['King'] of ['Clubs']\n"
          ]
        }
      ]
    },
    {
      "cell_type": "code",
      "source": [
        "import sys\n",
        "sys.argv=[\"3\", \"4\", \"5\"]\n",
        "x= (sys.argv[1])\n",
        "y= (sys.argv[2])\n",
        "sum=x+y\n",
        "print(\"Sum is \",sum)"
      ],
      "metadata": {
        "colab": {
          "base_uri": "https://localhost:8080/"
        },
        "id": "u-UH5S4tXEmq",
        "outputId": "0d1ca6b1-d8fa-4e74-92c5-3442fb482a5a"
      },
      "execution_count": 30,
      "outputs": [
        {
          "output_type": "stream",
          "name": "stdout",
          "text": [
            "Sum is  45\n"
          ]
        }
      ]
    },
    {
      "cell_type": "code",
      "source": [
        "import sys\n",
        "str=sys.argv[1]\n",
        "print(\"The length of string: \",len(str))"
      ],
      "metadata": {
        "colab": {
          "base_uri": "https://localhost:8080/"
        },
        "id": "biWa3WGzY57y",
        "outputId": "d4773236-6b06-4be2-9cbf-04cfccd56a21"
      },
      "execution_count": 32,
      "outputs": [
        {
          "output_type": "stream",
          "name": "stdout",
          "text": [
            "The length of string:  1\n"
          ]
        }
      ]
    },
    {
      "cell_type": "code",
      "source": [
        "import math\n",
        "a=25\n",
        "b=math.sqrt(a)\n",
        "print(b)"
      ],
      "metadata": {
        "colab": {
          "base_uri": "https://localhost:8080/"
        },
        "id": "zZ7cmT9UaVXP",
        "outputId": "522d010f-6a5f-4853-b92e-cc2f65ba69f9"
      },
      "execution_count": 39,
      "outputs": [
        {
          "output_type": "stream",
          "name": "stdout",
          "text": [
            "5.0\n"
          ]
        }
      ]
    },
    {
      "cell_type": "code",
      "source": [
        "import datetime\n",
        "current_time= datetime.datetime.now()\n",
        "print(current_time)"
      ],
      "metadata": {
        "colab": {
          "base_uri": "https://localhost:8080/"
        },
        "id": "G3oHIQu_cfe4",
        "outputId": "c181a350-9bc2-4909-ec8b-698d2b928a9f"
      },
      "execution_count": 40,
      "outputs": [
        {
          "output_type": "stream",
          "name": "stdout",
          "text": [
            "2025-01-16 09:31:34.271279\n"
          ]
        }
      ]
    },
    {
      "cell_type": "code",
      "source": [
        "import os\n",
        "os.listdir()"
      ],
      "metadata": {
        "colab": {
          "base_uri": "https://localhost:8080/"
        },
        "id": "yz5tzg6sdIRk",
        "outputId": "b1e54404-d242-4488-9d4b-f0d3b5827d84"
      },
      "execution_count": 42,
      "outputs": [
        {
          "output_type": "execute_result",
          "data": {
            "text/plain": [
              "['.config', 'sample_data']"
            ]
          },
          "metadata": {},
          "execution_count": 41
        },
        {
          "output_type": "execute_result",
          "data": {
            "text/plain": [
              "['.config', 'sample_data']"
            ]
          },
          "metadata": {},
          "execution_count": 42
        }
      ]
    }
  ]
}
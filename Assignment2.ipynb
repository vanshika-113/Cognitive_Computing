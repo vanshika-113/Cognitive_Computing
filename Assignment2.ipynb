{
  "nbformat": 4,
  "nbformat_minor": 0,
  "metadata": {
    "colab": {
      "provenance": []
    },
    "kernelspec": {
      "name": "python3",
      "display_name": "Python 3"
    },
    "language_info": {
      "name": "python"
    }
  },
  "cells": [
    {
      "cell_type": "code",
      "execution_count": null,
      "metadata": {
        "colab": {
          "base_uri": "https://localhost:8080/"
        },
        "id": "EpR2vpiGPGE7",
        "outputId": "d6d2be19-be9c-45ee-a69b-7a57102fe8fe"
      },
      "outputs": [
        {
          "output_type": "stream",
          "name": "stdout",
          "text": [
            "[10, 20, 30, 40, 50, 60, 70, 80, 200, 300]\n"
          ]
        }
      ],
      "source": [
        "L=[10,20,30,40,50,60,70,80]\n",
        "L.extend([200,300])\n",
        "print(L)"
      ]
    },
    {
      "cell_type": "code",
      "source": [
        "L=[10,20,30,40,50,60,70,80]\n",
        "L.remove(10)\n",
        "print(L)\n",
        "L.remove(30)\n",
        "print(L)\n",
        "L.sort()\n",
        "print(\"Ascending order: \",L)\n",
        "L.reverse()\n",
        "print(\"Descending order: \",L)"
      ],
      "metadata": {
        "colab": {
          "base_uri": "https://localhost:8080/"
        },
        "id": "Diy_WfMsQSib",
        "outputId": "b15e3c91-d1e7-4ea1-db63-5302be784489"
      },
      "execution_count": null,
      "outputs": [
        {
          "output_type": "stream",
          "name": "stdout",
          "text": [
            "[20, 30, 40, 50, 60, 70, 80]\n",
            "[20, 40, 50, 60, 70, 80]\n",
            "Ascending order:  [20, 40, 50, 60, 70, 80]\n",
            "Descending order:  [80, 70, 60, 50, 40, 20]\n"
          ]
        }
      ]
    },
    {
      "cell_type": "code",
      "source": [
        "scores=(45,89.5,76,45.4,89,92,58,45)\n",
        "highest_score=max(scores)\n",
        "idx=scores.index(highest_score)\n",
        "print(\"Highest score is \",highest_score)\n",
        "print(\"Its index is \",idx)\n",
        "lowest_score=min(scores)\n",
        "print(\"Lowest score is \",lowest_score)\n",
        "a=scores.count(lowest_score)\n",
        "print(\"It appears\",a,\"times.\")\n",
        "reverse=scores[::-1]\n",
        "print(\"The reversed tuple of marks: \",reverse)\n",
        "b=list(reverse)\n",
        "print(\"The reversed list: \",b)\n",
        "c=scores.index(76)\n",
        "if (76 in scores):\n",
        "  print(\"Element present in list at\",c,\"index.\")\n",
        "else:\n",
        "  print(\"Element not present in list.\")"
      ],
      "metadata": {
        "colab": {
          "base_uri": "https://localhost:8080/"
        },
        "id": "aRdKNuetSQnk",
        "outputId": "6ac3340b-ec8b-4b09-c068-6132168c132e"
      },
      "execution_count": null,
      "outputs": [
        {
          "output_type": "stream",
          "name": "stdout",
          "text": [
            "Highest score is  92\n",
            "Its index is  5\n",
            "Lowest score is  45\n",
            "It appears 2 times.\n",
            "The reversed tuple of marks:  (45, 58, 92, 89, 45.4, 76, 89.5, 45)\n",
            "The reversed list:  [45, 58, 92, 89, 45.4, 76, 89.5, 45]\n",
            "Element present in list at 2 index.\n"
          ]
        }
      ]
    },
    {
      "cell_type": "code",
      "source": [
        "import random\n",
        "list=[]\n",
        "count=0\n",
        "for i in range(1,101):\n",
        "  a=random.randint(100,900)\n",
        "  list.append(a)\n",
        "\n",
        "print(\"Final list:\",list)\n",
        "print(\"Odd numbers: \")\n",
        "for j in range(0,len(list)):\n",
        "    if(list[j]%2==1):\n",
        "      print(list[j])\n",
        "      count=count+1\n",
        "print(\"Number of odd numbers: \", count)\n",
        "\n",
        "count1=0\n",
        "print(\"Even numbers: \")\n",
        "for k in range(0,len(list)):\n",
        "    if(list[k]%2==0):\n",
        "      print(list[k])\n",
        "      count1=count1+1\n",
        "print(\"Number of even numbers: \", count1)\n",
        "\n",
        "count2=0\n",
        "print(\"Prime numbers: \")\n",
        "for l in range(0,len(list)):\n",
        "  for m in range(2,list[l]):\n",
        "    if(list[l]%m==0):\n",
        "      break\n",
        "  else:\n",
        "    print(list[l])\n"
      ],
      "metadata": {
        "colab": {
          "base_uri": "https://localhost:8080/"
        },
        "id": "YLQSHSvbTeD9",
        "outputId": "7520d4f1-b07e-4fe2-c630-0980bffbf2ea"
      },
      "execution_count": 13,
      "outputs": [
        {
          "output_type": "stream",
          "name": "stdout",
          "text": [
            "Final list: [759, 893, 231, 361, 164, 380, 346, 203, 132, 829, 331, 112, 315, 142, 259, 114, 194, 190, 527, 298, 494, 579, 707, 170, 321, 311, 234, 154, 655, 467, 656, 763, 486, 224, 127, 246, 587, 517, 313, 581, 123, 122, 860, 285, 369, 841, 545, 188, 288, 436, 781, 391, 731, 524, 539, 115, 516, 797, 787, 629, 709, 121, 469, 693, 665, 472, 713, 514, 817, 119, 866, 848, 531, 854, 466, 423, 622, 684, 666, 287, 243, 108, 109, 203, 376, 353, 368, 715, 582, 669, 840, 292, 465, 430, 117, 499, 720, 458, 833, 538]\n",
            "Odd numbers: \n",
            "759\n",
            "893\n",
            "231\n",
            "361\n",
            "203\n",
            "829\n",
            "331\n",
            "315\n",
            "259\n",
            "527\n",
            "579\n",
            "707\n",
            "321\n",
            "311\n",
            "655\n",
            "467\n",
            "763\n",
            "127\n",
            "587\n",
            "517\n",
            "313\n",
            "581\n",
            "123\n",
            "285\n",
            "369\n",
            "841\n",
            "545\n",
            "781\n",
            "391\n",
            "731\n",
            "539\n",
            "115\n",
            "797\n",
            "787\n",
            "629\n",
            "709\n",
            "121\n",
            "469\n",
            "693\n",
            "665\n",
            "713\n",
            "817\n",
            "119\n",
            "531\n",
            "423\n",
            "287\n",
            "243\n",
            "109\n",
            "203\n",
            "353\n",
            "715\n",
            "669\n",
            "465\n",
            "117\n",
            "499\n",
            "833\n",
            "Number of odd numbers:  56\n",
            "Even numbers: \n",
            "164\n",
            "380\n",
            "346\n",
            "132\n",
            "112\n",
            "142\n",
            "114\n",
            "194\n",
            "190\n",
            "298\n",
            "494\n",
            "170\n",
            "234\n",
            "154\n",
            "656\n",
            "486\n",
            "224\n",
            "246\n",
            "122\n",
            "860\n",
            "188\n",
            "288\n",
            "436\n",
            "524\n",
            "516\n",
            "472\n",
            "514\n",
            "866\n",
            "848\n",
            "854\n",
            "466\n",
            "622\n",
            "684\n",
            "666\n",
            "108\n",
            "376\n",
            "368\n",
            "582\n",
            "840\n",
            "292\n",
            "430\n",
            "720\n",
            "458\n",
            "538\n",
            "Number of even numbers:  44\n",
            "Prime numbers: \n",
            "829\n",
            "331\n",
            "311\n",
            "467\n",
            "127\n",
            "587\n",
            "313\n",
            "797\n",
            "787\n",
            "709\n",
            "109\n",
            "353\n",
            "499\n"
          ]
        }
      ]
    },
    {
      "cell_type": "code",
      "source": [
        "import random\n",
        "li\n",
        "count=0\n",
        "for a in range(0,101):\n",
        "  a=random.randint(100,900)\n",
        "  print(a)\n",
        "\n",
        "print(\"Odd numbers\")\n",
        "if(a%2==1):\n",
        "  print(a)\n",
        "  count=count+1\n",
        "print(\"Number of odd numbers: \", count)\n"
      ],
      "metadata": {
        "colab": {
          "base_uri": "https://localhost:8080/"
        },
        "id": "yI9c9MdXOchz",
        "outputId": "36683b62-067d-468d-82d5-4124bb76daad"
      },
      "execution_count": 8,
      "outputs": [
        {
          "output_type": "stream",
          "name": "stdout",
          "text": [
            "365\n",
            "732\n",
            "881\n",
            "545\n",
            "699\n",
            "669\n",
            "111\n",
            "581\n",
            "890\n",
            "724\n",
            "374\n",
            "445\n",
            "807\n",
            "833\n",
            "613\n",
            "775\n",
            "173\n",
            "372\n",
            "663\n",
            "674\n",
            "469\n",
            "464\n",
            "262\n",
            "883\n",
            "618\n",
            "837\n",
            "131\n",
            "620\n",
            "581\n",
            "240\n",
            "827\n",
            "455\n",
            "615\n",
            "147\n",
            "647\n",
            "131\n",
            "628\n",
            "263\n",
            "491\n",
            "481\n",
            "683\n",
            "688\n",
            "888\n",
            "737\n",
            "642\n",
            "532\n",
            "409\n",
            "642\n",
            "554\n",
            "508\n",
            "396\n",
            "597\n",
            "258\n",
            "105\n",
            "831\n",
            "621\n",
            "510\n",
            "108\n",
            "577\n",
            "505\n",
            "678\n",
            "262\n",
            "273\n",
            "503\n",
            "104\n",
            "451\n",
            "327\n",
            "511\n",
            "483\n",
            "191\n",
            "624\n",
            "355\n",
            "657\n",
            "733\n",
            "708\n",
            "287\n",
            "298\n",
            "272\n",
            "141\n",
            "900\n",
            "105\n",
            "840\n",
            "813\n",
            "132\n",
            "105\n",
            "116\n",
            "128\n",
            "195\n",
            "721\n",
            "696\n",
            "333\n",
            "887\n",
            "394\n",
            "487\n",
            "487\n",
            "871\n",
            "622\n",
            "375\n",
            "353\n",
            "890\n",
            "676\n",
            "Odd numbers\n",
            "Number of odd numbers:  0\n"
          ]
        }
      ]
    },
    {
      "cell_type": "code",
      "source": [
        "A={34,56,78,90}\n",
        "B={78,45,90,23}\n",
        "x=A.union(B)\n",
        "print(\"The union of sets: \",x)\n",
        "y=A.intersection(B)\n",
        "print(\"The intersection of sets: \",y)\n",
        "z=A.symmetric_difference(B)\n",
        "print(\"Symmetric difference: \",z)\n",
        "w=A.issubset(B)\n",
        "print(w)\n",
        "u=B.issuperset(A)\n",
        "print(u)\n",
        "a=int(input(\"Enter the element to be removed: \"))\n",
        "if(a in A):\n",
        "  v=A.remove(a)\n",
        "  print(A)\n",
        "else:\n",
        "  print(\"Element not present.\")"
      ],
      "metadata": {
        "colab": {
          "base_uri": "https://localhost:8080/"
        },
        "id": "Ec81BYxJUw8M",
        "outputId": "4aa9c184-1d2e-4080-8023-b7fd37c25beb"
      },
      "execution_count": 3,
      "outputs": [
        {
          "output_type": "stream",
          "name": "stdout",
          "text": [
            "The union of sets:  {34, 45, 78, 23, 56, 90}\n",
            "The intersection of sets:  {90, 78}\n",
            "Symmetric difference:  {34, 45, 23, 56}\n",
            "False\n",
            "False\n",
            "Enter the element to be removed: 1\n",
            "Element not present.\n"
          ]
        }
      ]
    },
    {
      "cell_type": "code",
      "source": [
        "sample_dict={\n",
        "    \"name\": \"Kelly\",\n",
        "    \"age\":25,\n",
        "    \"salary\": 8000,\n",
        "    \"city\": \"New york\"\n",
        "\n",
        "}\n",
        "sample_dict[\"location\"]=sample_dict.pop(\"city\")\n",
        "print(sample_dict)"
      ],
      "metadata": {
        "id": "-c6QkDz5RRJ6",
        "colab": {
          "base_uri": "https://localhost:8080/"
        },
        "outputId": "cedb55ff-d698-4a06-a5c3-2bfa95f145e6"
      },
      "execution_count": null,
      "outputs": [
        {
          "output_type": "stream",
          "name": "stdout",
          "text": [
            "{'name': 'Kelly', 'age': 25, 'salary': 8000, 'location': 'New york'}\n"
          ]
        }
      ]
    }
  ]
}
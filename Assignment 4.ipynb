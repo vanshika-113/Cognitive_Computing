{
  "nbformat": 4,
  "nbformat_minor": 0,
  "metadata": {
    "colab": {
      "provenance": []
    },
    "kernelspec": {
      "name": "python3",
      "display_name": "Python 3"
    },
    "language_info": {
      "name": "python"
    }
  },
  "cells": [
    {
      "cell_type": "code",
      "execution_count": null,
      "metadata": {
        "colab": {
          "base_uri": "https://localhost:8080/"
        },
        "id": "iKuy_K7w_0_u",
        "outputId": "f5d206e5-1ed2-423e-b313-74ae7d29dee2"
      },
      "outputs": [
        {
          "output_type": "stream",
          "name": "stdout",
          "text": [
            "[1 2 3 4 5]\n",
            "After adding 2 to each element: [3, 4, 5, 6, 7]\n",
            "After multiplying 3 with all the elements: [3, 6, 9, 12, 15]\n",
            "After dividing every element by 2: [0.5 1.  1.5 2.  2.5]\n"
          ]
        }
      ],
      "source": [
        "import numpy as np\n",
        "a=np.array([1,2,3,4,5])\n",
        "print(a)\n",
        "result=[]\n",
        "for i in a:\n",
        "  result.append(i+2)\n",
        "print(\"After adding 2 to each element:\",result)\n",
        "b=[]\n",
        "for i in a:\n",
        "  b.append(i*3)\n",
        "print(\"After multiplying 3 with all the elements:\",b)\n",
        "c=np.divide(a,2)\n",
        "print(\"After dividing every element by 2:\",c)"
      ]
    },
    {
      "cell_type": "code",
      "source": [
        "import numpy as np\n",
        "a=np.array([1,2,3,6,4,5])\n",
        "reverse=np.flip(a)\n",
        "print(\"Reversed array:\",reverse)\n",
        "x=np.array([1,2,3,4,5,1,2,1,1,1])\n",
        "print(\"Most frequent value in x array:\",np.bincount(x).argmax())\n",
        "print(\"All index value of 1 is:\",np.where(x==1)[0])\n",
        "y=np.array([1,1,1,2,3,4,2,4,3,3])\n",
        "z=np.bincount(y)\n",
        "maximum=max(z)\n",
        "for i in range(len(z)):\n",
        "  if z[i]==maximum:\n",
        "    print(\"Most frequent value in y array:\",i)\n",
        "print(\"All index value of 1 is:\",np.where(y==1)[0])\n",
        "print(\"All index value of 3 is:\",np.where(y==3)[0])"
      ],
      "metadata": {
        "colab": {
          "base_uri": "https://localhost:8080/"
        },
        "id": "W-boeznXDs_Z",
        "outputId": "9af1b3b3-c2c5-429f-8599-0d5df9397e9a"
      },
      "execution_count": null,
      "outputs": [
        {
          "output_type": "stream",
          "name": "stdout",
          "text": [
            "Reversed array: [5 4 6 3 2 1]\n",
            "Most frequent value in x array: 1\n",
            "All index value of 1 is: [0 5 7 8 9]\n",
            "Most frequent value in y array: 1\n",
            "Most frequent value in y array: 3\n",
            "All index value of 1 is: [0 1 2]\n",
            "All index value of 3 is: [4 8 9]\n"
          ]
        }
      ]
    },
    {
      "cell_type": "code",
      "source": [
        "import numpy as np\n",
        "arr=np.array([[10,20,30],[40,50,60],[70,80,90]])\n",
        "print(arr)\n",
        "print(\"2nd element of 1st row:\",arr[0,1])\n",
        "print(\"1st element of 3rd row:\",arr[2,0])"
      ],
      "metadata": {
        "colab": {
          "base_uri": "https://localhost:8080/"
        },
        "id": "HNEUElIgI0Vd",
        "outputId": "37be2424-3a7b-4de8-952a-4e287e00f70a"
      },
      "execution_count": null,
      "outputs": [
        {
          "output_type": "stream",
          "name": "stdout",
          "text": [
            "[[10 20 30]\n",
            " [40 50 60]\n",
            " [70 80 90]]\n",
            "2nd element of 1st row: 20\n",
            "1st element of 3rd row: 70\n"
          ]
        }
      ]
    },
    {
      "cell_type": "code",
      "source": [
        "import numpy as np\n",
        "vanshika=np.linspace(10,100,num=25)\n",
        "print(vanshika)\n",
        "print(\"Shape of the array:\",vanshika.shape)\n",
        "print(\"No. of dimensions of array:\",vanshika.ndim)\n",
        "print(\"Total elements:\",vanshika.size)\n",
        "print(\"Datatype of each element:\",vanshika.dtype)\n",
        "print(\"Total number of bytes consumed by the array:\",vanshika.nbytes)\n",
        "newarr=vanshika.reshape(25,1)\n",
        "print(newarr)"
      ],
      "metadata": {
        "colab": {
          "base_uri": "https://localhost:8080/"
        },
        "id": "XlE8sAE1Ki0u",
        "outputId": "9feb2019-4884-45d0-afea-5120c9c2c087"
      },
      "execution_count": null,
      "outputs": [
        {
          "output_type": "stream",
          "name": "stdout",
          "text": [
            "[ 10.    13.75  17.5   21.25  25.    28.75  32.5   36.25  40.    43.75\n",
            "  47.5   51.25  55.    58.75  62.5   66.25  70.    73.75  77.5   81.25\n",
            "  85.    88.75  92.5   96.25 100.  ]\n",
            "Shape of the array: (25,)\n",
            "No. of dimensions of array: 1\n",
            "Total elements: 25\n",
            "Datatype of each element: float64\n",
            "Total number of bytes consumed by the array: 200\n",
            "[[ 10.  ]\n",
            " [ 13.75]\n",
            " [ 17.5 ]\n",
            " [ 21.25]\n",
            " [ 25.  ]\n",
            " [ 28.75]\n",
            " [ 32.5 ]\n",
            " [ 36.25]\n",
            " [ 40.  ]\n",
            " [ 43.75]\n",
            " [ 47.5 ]\n",
            " [ 51.25]\n",
            " [ 55.  ]\n",
            " [ 58.75]\n",
            " [ 62.5 ]\n",
            " [ 66.25]\n",
            " [ 70.  ]\n",
            " [ 73.75]\n",
            " [ 77.5 ]\n",
            " [ 81.25]\n",
            " [ 85.  ]\n",
            " [ 88.75]\n",
            " [ 92.5 ]\n",
            " [ 96.25]\n",
            " [100.  ]]\n"
          ]
        }
      ]
    },
    {
      "cell_type": "code",
      "source": [
        "import numpy as np\n",
        "ucs420_vanshika=np.array([[10,20,30,40],[50,60,70,80],[90,15,20,35]])\n",
        "print(ucs420_vanshika)\n",
        "print(\"Mean:\",np.mean(ucs420_vanshika))\n",
        "print(\"Median:\",np.median(ucs420_vanshika))\n",
        "print(\"Max:\",np.max(ucs420_vanshika))\n",
        "print(\"Min:\",np.min(ucs420_vanshika))\n",
        "print(\"Unique elements:\",np.unique(ucs420_vanshika))\n",
        "reshaped_ucs420_vanshika=ucs420_vanshika.reshape(4,3)\n",
        "print(\"Reshaped array:\",reshaped_ucs420_vanshika)\n",
        "a=np.resize(ucs420_vanshika,(2,3))\n",
        "print(\"Resized array:\",a)"
      ],
      "metadata": {
        "colab": {
          "base_uri": "https://localhost:8080/"
        },
        "id": "ZEvmfgzeQInv",
        "outputId": "79c7dce4-5de2-4e78-866d-00df24a79e7e"
      },
      "execution_count": 1,
      "outputs": [
        {
          "output_type": "stream",
          "name": "stdout",
          "text": [
            "[[10 20 30 40]\n",
            " [50 60 70 80]\n",
            " [90 15 20 35]]\n",
            "Mean: 43.333333333333336\n",
            "Median: 37.5\n",
            "Max: 90\n",
            "Min: 10\n",
            "Unique elements: [10 15 20 30 35 40 50 60 70 80 90]\n",
            "Reshaped array: [[10 20 30]\n",
            " [40 50 60]\n",
            " [70 80 90]\n",
            " [15 20 35]]\n",
            "Resized array: [[10 20 30]\n",
            " [40 50 60]]\n"
          ]
        }
      ]
    }
  ]
}